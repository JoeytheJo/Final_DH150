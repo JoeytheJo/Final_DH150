{
 "cells": [
  {
   "cell_type": "markdown",
   "id": "43c824f4-86ff-4e6d-ac18-fbd9d9f286f8",
   "metadata": {},
   "source": [
    "### Bank Marketing Campaigns\n",
    "### Joann Won\n",
    "### 7/26/2022"
   ]
  },
  {
   "cell_type": "markdown",
   "id": "1a0b0c25-d5ca-4f8e-9a32-26e8b53faf1f",
   "metadata": {},
   "source": [
    "### Introduction:\n",
    "\n",
    "My chosen dataset is of marketing campaigns of a Portugese banking institution from May 2008 to June 2013:\n",
    "\n",
    "https://archive.ics.uci.edu/ml/datasets/bank+marketing\n",
    "\n",
    "A total of 52944 phone contacts are recorded in this dataset. The attributes of this data include telemarketing, candidate's status, and candidate's economic features as well. External data came from the central bank of Portugese Republic statisical website.\n",
    "\n",
    "https://www.bportugal.pt/en\n",
    "\n",
    "Out of a total of 150 attributes, 22 were selected as the most relevant in this dataset. \n",
    "\n",
    "The marketing campaign's target is the client subsribing to a term deposit. Telemarketing centers would contact the clients via phone call throughout marketing campaigns. The dataset description is unclear as to whether or not phone contacts were just home phones or mobile phones."
   ]
  },
  {
   "cell_type": "markdown",
   "id": "1f197581-b7f9-48ac-9323-99b3715eae0e",
   "metadata": {},
   "source": [
    "### Prior Work:\n",
    "\n",
    "__1__\n",
    "\n",
    "__Citation Information:__\n",
    "S. Moro, P. Cortez and P. Rita. A Data-Driven Approach to Predict the Success of Bank Telemarketing. Decision Support Systems, Elsevier, 62:22-31, June 2014\n",
    "\n",
    "__Summary of Results:__\n",
    "In order to meet the demands for the increased capital requirements of banks, data mining and a decision support system were used to predict if the result of bank telemarketing calls would secure long-term deposits. Four models were explored: logistic regression, decision trees, neural network, and support vector machine. 22 most relevant features were chosen out of 150 input features based on company and economic attributes were used. The neural network model gave the best results among four trained models with an AUC value of 0.8.\n",
    "\n",
    "__Limitations, biases, data shortcomings, and conclusions about what might be overlooked:__\n",
    "The article concludes that the Euribor rate was a highly relevant attribute that predicted that clients would save more when the Euribor rate decreased. The Euribor rate is the interest rate at which a panel of European banks borrows funds from one another. Due to the context of a recession that hit, the Portuguese bank data’s most relevant attributes may not be helpful for an efficient telemarketing strategy during stable economic conditions. Additionally, the pressure for banks to meet a profit demand may have allocated more resources to telemarketing than usual which is not necessarily a profitable strategy for the long term.\n",
    "\n",
    "__2__\n",
    "\n",
    "__Citation Information:__\n",
    "S. Moro, R. Laureano and P. Cortez. Using Data Mining for Bank Direct Marketing: An Application of the CRISP-DM Methodology. In P. Novais et al. (Eds.), Proceedings of the European Simulation and Modelling Conference - ESM'2011, pp. 117-121, Guimaraes, Portugal, October, 2011. EUROSIS. [bank.zip]\n",
    "\n",
    "__Summary of Results:__\n",
    "Cross-Industry Standard Process for Data Mining (CRISP-DM) iterations have allowed for a better model that is in tune with the business goals that is useful to improve bank marketing campaigns. With each iteration of the CRISP-DM, the models improved, with the best model being the support vector model with an AUC value of 0.938. The top five most relevant inputs for a marketing campaign were identified as call duration, the month of contact, the number of previous contacts, days since the last contact, the last contact result, and the first constant duration. \n",
    "\n",
    "__Limitations, biases, data shortcomings, and conclusions about what might be overlooked:__\n",
    "No limitations, biases, or data shortcomings were described in this article. The article does mention that a possible expansion of this article would be to see if these predictive models can be achieved without contact-based information, which would further impede the customers’ privacy. A lot of the information that is being used to decide whether a customer should be contacted is provided by the customer to the banks initially for financial reasons and not for telemarketing purposes. The modern bank customer is wary of telemarketing strategies and does not prefer direct marketing calls from banks, so the application of this dataset to current banks may need to adapt for the digital bank customers.\n",
    "\n",
    "__3__\n",
    "\n",
    "__Citation Information:__\n",
    "Tékouabou SCK, Gherghina ŞC, Toulni H, Neves Mata P, Mata MN, Martins JM. A Machine Learning Framework towards Bank Telemarketing Prediction. Journal of Risk and Financial Management. 2022; 15(6):269. https://doi.org/10.3390/jrfm15060269\n",
    "\n",
    "__Summary of Results:__\n",
    "Class-membership (CMB) classifier approach is proposed to transform heterogeneous data by processing data types. Due to the technological evolution that has allowed machine learning algorithms and data mining tools, more efficient forecasting of marketing campaigns and business adjustments have resulted. However, this means that rich data that is used such as volume, complexity, and heterogeneity that must be accounted for. Although the data mining ANN model was the best model with an AUC of 0.975, the CMB model is the 2nd best model with an AUC of 0.959.\n",
    "\n",
    "__Limitations, biases, data shortcomings, and conclusions about what might be overlooked:__\n",
    "The article mentions the shortcomings of heterogeneous data, achieving optimal performance, and using minimal resources. Usually, non-numerical variables in the data cause over-fitting or slowing down of the model, which is hopefully addressed by using the CMB approach. The article mentions limitations of the experiment protocol, in which they did not balance the data. Additionally, the article describes that some features of the dataset are not known until after a telemarketing call, such as the duration.\n"
   ]
  },
  {
   "cell_type": "markdown",
   "id": "d17b41e2-fe25-47b1-8f7d-e6ec5c9d5217",
   "metadata": {},
   "source": [
    "### Start of Workflow"
   ]
  },
  {
   "cell_type": "code",
   "execution_count": 1,
   "id": "20dd646b-b222-4ad3-972d-d89fff323baa",
   "metadata": {},
   "outputs": [
    {
     "data": {
      "text/html": [
       "<div>\n",
       "<style scoped>\n",
       "    .dataframe tbody tr th:only-of-type {\n",
       "        vertical-align: middle;\n",
       "    }\n",
       "\n",
       "    .dataframe tbody tr th {\n",
       "        vertical-align: top;\n",
       "    }\n",
       "\n",
       "    .dataframe thead th {\n",
       "        text-align: right;\n",
       "    }\n",
       "</style>\n",
       "<table border=\"1\" class=\"dataframe\">\n",
       "  <thead>\n",
       "    <tr style=\"text-align: right;\">\n",
       "      <th></th>\n",
       "      <th>age</th>\n",
       "      <th>job</th>\n",
       "      <th>marital</th>\n",
       "      <th>education</th>\n",
       "      <th>default</th>\n",
       "      <th>balance</th>\n",
       "      <th>housing</th>\n",
       "      <th>loan</th>\n",
       "      <th>contact</th>\n",
       "      <th>day</th>\n",
       "      <th>month</th>\n",
       "      <th>duration</th>\n",
       "      <th>campaign</th>\n",
       "      <th>pdays</th>\n",
       "      <th>previous</th>\n",
       "      <th>poutcome</th>\n",
       "      <th>y</th>\n",
       "    </tr>\n",
       "  </thead>\n",
       "  <tbody>\n",
       "    <tr>\n",
       "      <th>0</th>\n",
       "      <td>58</td>\n",
       "      <td>management</td>\n",
       "      <td>married</td>\n",
       "      <td>tertiary</td>\n",
       "      <td>no</td>\n",
       "      <td>2143</td>\n",
       "      <td>yes</td>\n",
       "      <td>no</td>\n",
       "      <td>unknown</td>\n",
       "      <td>5</td>\n",
       "      <td>may</td>\n",
       "      <td>261</td>\n",
       "      <td>1</td>\n",
       "      <td>-1</td>\n",
       "      <td>0</td>\n",
       "      <td>unknown</td>\n",
       "      <td>no</td>\n",
       "    </tr>\n",
       "    <tr>\n",
       "      <th>1</th>\n",
       "      <td>44</td>\n",
       "      <td>technician</td>\n",
       "      <td>single</td>\n",
       "      <td>secondary</td>\n",
       "      <td>no</td>\n",
       "      <td>29</td>\n",
       "      <td>yes</td>\n",
       "      <td>no</td>\n",
       "      <td>unknown</td>\n",
       "      <td>5</td>\n",
       "      <td>may</td>\n",
       "      <td>151</td>\n",
       "      <td>1</td>\n",
       "      <td>-1</td>\n",
       "      <td>0</td>\n",
       "      <td>unknown</td>\n",
       "      <td>no</td>\n",
       "    </tr>\n",
       "    <tr>\n",
       "      <th>2</th>\n",
       "      <td>33</td>\n",
       "      <td>entrepreneur</td>\n",
       "      <td>married</td>\n",
       "      <td>secondary</td>\n",
       "      <td>no</td>\n",
       "      <td>2</td>\n",
       "      <td>yes</td>\n",
       "      <td>yes</td>\n",
       "      <td>unknown</td>\n",
       "      <td>5</td>\n",
       "      <td>may</td>\n",
       "      <td>76</td>\n",
       "      <td>1</td>\n",
       "      <td>-1</td>\n",
       "      <td>0</td>\n",
       "      <td>unknown</td>\n",
       "      <td>no</td>\n",
       "    </tr>\n",
       "    <tr>\n",
       "      <th>3</th>\n",
       "      <td>47</td>\n",
       "      <td>blue-collar</td>\n",
       "      <td>married</td>\n",
       "      <td>unknown</td>\n",
       "      <td>no</td>\n",
       "      <td>1506</td>\n",
       "      <td>yes</td>\n",
       "      <td>no</td>\n",
       "      <td>unknown</td>\n",
       "      <td>5</td>\n",
       "      <td>may</td>\n",
       "      <td>92</td>\n",
       "      <td>1</td>\n",
       "      <td>-1</td>\n",
       "      <td>0</td>\n",
       "      <td>unknown</td>\n",
       "      <td>no</td>\n",
       "    </tr>\n",
       "    <tr>\n",
       "      <th>4</th>\n",
       "      <td>33</td>\n",
       "      <td>unknown</td>\n",
       "      <td>single</td>\n",
       "      <td>unknown</td>\n",
       "      <td>no</td>\n",
       "      <td>1</td>\n",
       "      <td>no</td>\n",
       "      <td>no</td>\n",
       "      <td>unknown</td>\n",
       "      <td>5</td>\n",
       "      <td>may</td>\n",
       "      <td>198</td>\n",
       "      <td>1</td>\n",
       "      <td>-1</td>\n",
       "      <td>0</td>\n",
       "      <td>unknown</td>\n",
       "      <td>no</td>\n",
       "    </tr>\n",
       "    <tr>\n",
       "      <th>...</th>\n",
       "      <td>...</td>\n",
       "      <td>...</td>\n",
       "      <td>...</td>\n",
       "      <td>...</td>\n",
       "      <td>...</td>\n",
       "      <td>...</td>\n",
       "      <td>...</td>\n",
       "      <td>...</td>\n",
       "      <td>...</td>\n",
       "      <td>...</td>\n",
       "      <td>...</td>\n",
       "      <td>...</td>\n",
       "      <td>...</td>\n",
       "      <td>...</td>\n",
       "      <td>...</td>\n",
       "      <td>...</td>\n",
       "      <td>...</td>\n",
       "    </tr>\n",
       "    <tr>\n",
       "      <th>45206</th>\n",
       "      <td>51</td>\n",
       "      <td>technician</td>\n",
       "      <td>married</td>\n",
       "      <td>tertiary</td>\n",
       "      <td>no</td>\n",
       "      <td>825</td>\n",
       "      <td>no</td>\n",
       "      <td>no</td>\n",
       "      <td>cellular</td>\n",
       "      <td>17</td>\n",
       "      <td>nov</td>\n",
       "      <td>977</td>\n",
       "      <td>3</td>\n",
       "      <td>-1</td>\n",
       "      <td>0</td>\n",
       "      <td>unknown</td>\n",
       "      <td>yes</td>\n",
       "    </tr>\n",
       "    <tr>\n",
       "      <th>45207</th>\n",
       "      <td>71</td>\n",
       "      <td>retired</td>\n",
       "      <td>divorced</td>\n",
       "      <td>primary</td>\n",
       "      <td>no</td>\n",
       "      <td>1729</td>\n",
       "      <td>no</td>\n",
       "      <td>no</td>\n",
       "      <td>cellular</td>\n",
       "      <td>17</td>\n",
       "      <td>nov</td>\n",
       "      <td>456</td>\n",
       "      <td>2</td>\n",
       "      <td>-1</td>\n",
       "      <td>0</td>\n",
       "      <td>unknown</td>\n",
       "      <td>yes</td>\n",
       "    </tr>\n",
       "    <tr>\n",
       "      <th>45208</th>\n",
       "      <td>72</td>\n",
       "      <td>retired</td>\n",
       "      <td>married</td>\n",
       "      <td>secondary</td>\n",
       "      <td>no</td>\n",
       "      <td>5715</td>\n",
       "      <td>no</td>\n",
       "      <td>no</td>\n",
       "      <td>cellular</td>\n",
       "      <td>17</td>\n",
       "      <td>nov</td>\n",
       "      <td>1127</td>\n",
       "      <td>5</td>\n",
       "      <td>184</td>\n",
       "      <td>3</td>\n",
       "      <td>success</td>\n",
       "      <td>yes</td>\n",
       "    </tr>\n",
       "    <tr>\n",
       "      <th>45209</th>\n",
       "      <td>57</td>\n",
       "      <td>blue-collar</td>\n",
       "      <td>married</td>\n",
       "      <td>secondary</td>\n",
       "      <td>no</td>\n",
       "      <td>668</td>\n",
       "      <td>no</td>\n",
       "      <td>no</td>\n",
       "      <td>telephone</td>\n",
       "      <td>17</td>\n",
       "      <td>nov</td>\n",
       "      <td>508</td>\n",
       "      <td>4</td>\n",
       "      <td>-1</td>\n",
       "      <td>0</td>\n",
       "      <td>unknown</td>\n",
       "      <td>no</td>\n",
       "    </tr>\n",
       "    <tr>\n",
       "      <th>45210</th>\n",
       "      <td>37</td>\n",
       "      <td>entrepreneur</td>\n",
       "      <td>married</td>\n",
       "      <td>secondary</td>\n",
       "      <td>no</td>\n",
       "      <td>2971</td>\n",
       "      <td>no</td>\n",
       "      <td>no</td>\n",
       "      <td>cellular</td>\n",
       "      <td>17</td>\n",
       "      <td>nov</td>\n",
       "      <td>361</td>\n",
       "      <td>2</td>\n",
       "      <td>188</td>\n",
       "      <td>11</td>\n",
       "      <td>other</td>\n",
       "      <td>no</td>\n",
       "    </tr>\n",
       "  </tbody>\n",
       "</table>\n",
       "<p>45211 rows × 17 columns</p>\n",
       "</div>"
      ],
      "text/plain": [
       "       age           job   marital  education default  balance housing loan  \\\n",
       "0       58    management   married   tertiary      no     2143     yes   no   \n",
       "1       44    technician    single  secondary      no       29     yes   no   \n",
       "2       33  entrepreneur   married  secondary      no        2     yes  yes   \n",
       "3       47   blue-collar   married    unknown      no     1506     yes   no   \n",
       "4       33       unknown    single    unknown      no        1      no   no   \n",
       "...    ...           ...       ...        ...     ...      ...     ...  ...   \n",
       "45206   51    technician   married   tertiary      no      825      no   no   \n",
       "45207   71       retired  divorced    primary      no     1729      no   no   \n",
       "45208   72       retired   married  secondary      no     5715      no   no   \n",
       "45209   57   blue-collar   married  secondary      no      668      no   no   \n",
       "45210   37  entrepreneur   married  secondary      no     2971      no   no   \n",
       "\n",
       "         contact  day month  duration  campaign  pdays  previous poutcome    y  \n",
       "0        unknown    5   may       261         1     -1         0  unknown   no  \n",
       "1        unknown    5   may       151         1     -1         0  unknown   no  \n",
       "2        unknown    5   may        76         1     -1         0  unknown   no  \n",
       "3        unknown    5   may        92         1     -1         0  unknown   no  \n",
       "4        unknown    5   may       198         1     -1         0  unknown   no  \n",
       "...          ...  ...   ...       ...       ...    ...       ...      ...  ...  \n",
       "45206   cellular   17   nov       977         3     -1         0  unknown  yes  \n",
       "45207   cellular   17   nov       456         2     -1         0  unknown  yes  \n",
       "45208   cellular   17   nov      1127         5    184         3  success  yes  \n",
       "45209  telephone   17   nov       508         4     -1         0  unknown   no  \n",
       "45210   cellular   17   nov       361         2    188        11    other   no  \n",
       "\n",
       "[45211 rows x 17 columns]"
      ]
     },
     "execution_count": 1,
     "metadata": {},
     "output_type": "execute_result"
    }
   ],
   "source": [
    "import sklearn.datasets\n",
    "import pandas as pd\n",
    "\n",
    "df = pd.read_csv('bank-full.csv',sep = ';',encoding='mac_roman')\n",
    "df"
   ]
  },
  {
   "cell_type": "markdown",
   "id": "e7e4c89b-1625-4362-b599-7c60f5c61f75",
   "metadata": {},
   "source": [
    "Going to pre-process the data so that the target (y) data is converted into a numerical data.\n",
    "'Yes' will be replaced by 1 and 'No' will be replaced by 0"
   ]
  },
  {
   "cell_type": "code",
   "execution_count": 2,
   "id": "d5f617b1-8ee8-4bf8-8099-604dc300e755",
   "metadata": {},
   "outputs": [],
   "source": [
    "df['y'].replace(['yes','no'],[1,0],inplace=True)"
   ]
  },
  {
   "cell_type": "code",
   "execution_count": 3,
   "id": "95f32c4d-7ac7-4ded-9445-008e9d3095a6",
   "metadata": {},
   "outputs": [
    {
     "data": {
      "text/html": [
       "<div>\n",
       "<style scoped>\n",
       "    .dataframe tbody tr th:only-of-type {\n",
       "        vertical-align: middle;\n",
       "    }\n",
       "\n",
       "    .dataframe tbody tr th {\n",
       "        vertical-align: top;\n",
       "    }\n",
       "\n",
       "    .dataframe thead th {\n",
       "        text-align: right;\n",
       "    }\n",
       "</style>\n",
       "<table border=\"1\" class=\"dataframe\">\n",
       "  <thead>\n",
       "    <tr style=\"text-align: right;\">\n",
       "      <th></th>\n",
       "      <th>age</th>\n",
       "      <th>job</th>\n",
       "      <th>marital</th>\n",
       "      <th>education</th>\n",
       "      <th>default</th>\n",
       "      <th>balance</th>\n",
       "      <th>housing</th>\n",
       "      <th>loan</th>\n",
       "      <th>contact</th>\n",
       "      <th>day</th>\n",
       "      <th>month</th>\n",
       "      <th>duration</th>\n",
       "      <th>campaign</th>\n",
       "      <th>pdays</th>\n",
       "      <th>previous</th>\n",
       "      <th>poutcome</th>\n",
       "      <th>y</th>\n",
       "    </tr>\n",
       "  </thead>\n",
       "  <tbody>\n",
       "    <tr>\n",
       "      <th>0</th>\n",
       "      <td>58</td>\n",
       "      <td>management</td>\n",
       "      <td>married</td>\n",
       "      <td>tertiary</td>\n",
       "      <td>no</td>\n",
       "      <td>2143</td>\n",
       "      <td>yes</td>\n",
       "      <td>no</td>\n",
       "      <td>unknown</td>\n",
       "      <td>5</td>\n",
       "      <td>may</td>\n",
       "      <td>261</td>\n",
       "      <td>1</td>\n",
       "      <td>-1</td>\n",
       "      <td>0</td>\n",
       "      <td>unknown</td>\n",
       "      <td>0</td>\n",
       "    </tr>\n",
       "    <tr>\n",
       "      <th>1</th>\n",
       "      <td>44</td>\n",
       "      <td>technician</td>\n",
       "      <td>single</td>\n",
       "      <td>secondary</td>\n",
       "      <td>no</td>\n",
       "      <td>29</td>\n",
       "      <td>yes</td>\n",
       "      <td>no</td>\n",
       "      <td>unknown</td>\n",
       "      <td>5</td>\n",
       "      <td>may</td>\n",
       "      <td>151</td>\n",
       "      <td>1</td>\n",
       "      <td>-1</td>\n",
       "      <td>0</td>\n",
       "      <td>unknown</td>\n",
       "      <td>0</td>\n",
       "    </tr>\n",
       "    <tr>\n",
       "      <th>2</th>\n",
       "      <td>33</td>\n",
       "      <td>entrepreneur</td>\n",
       "      <td>married</td>\n",
       "      <td>secondary</td>\n",
       "      <td>no</td>\n",
       "      <td>2</td>\n",
       "      <td>yes</td>\n",
       "      <td>yes</td>\n",
       "      <td>unknown</td>\n",
       "      <td>5</td>\n",
       "      <td>may</td>\n",
       "      <td>76</td>\n",
       "      <td>1</td>\n",
       "      <td>-1</td>\n",
       "      <td>0</td>\n",
       "      <td>unknown</td>\n",
       "      <td>0</td>\n",
       "    </tr>\n",
       "    <tr>\n",
       "      <th>3</th>\n",
       "      <td>47</td>\n",
       "      <td>blue-collar</td>\n",
       "      <td>married</td>\n",
       "      <td>unknown</td>\n",
       "      <td>no</td>\n",
       "      <td>1506</td>\n",
       "      <td>yes</td>\n",
       "      <td>no</td>\n",
       "      <td>unknown</td>\n",
       "      <td>5</td>\n",
       "      <td>may</td>\n",
       "      <td>92</td>\n",
       "      <td>1</td>\n",
       "      <td>-1</td>\n",
       "      <td>0</td>\n",
       "      <td>unknown</td>\n",
       "      <td>0</td>\n",
       "    </tr>\n",
       "    <tr>\n",
       "      <th>4</th>\n",
       "      <td>33</td>\n",
       "      <td>unknown</td>\n",
       "      <td>single</td>\n",
       "      <td>unknown</td>\n",
       "      <td>no</td>\n",
       "      <td>1</td>\n",
       "      <td>no</td>\n",
       "      <td>no</td>\n",
       "      <td>unknown</td>\n",
       "      <td>5</td>\n",
       "      <td>may</td>\n",
       "      <td>198</td>\n",
       "      <td>1</td>\n",
       "      <td>-1</td>\n",
       "      <td>0</td>\n",
       "      <td>unknown</td>\n",
       "      <td>0</td>\n",
       "    </tr>\n",
       "    <tr>\n",
       "      <th>...</th>\n",
       "      <td>...</td>\n",
       "      <td>...</td>\n",
       "      <td>...</td>\n",
       "      <td>...</td>\n",
       "      <td>...</td>\n",
       "      <td>...</td>\n",
       "      <td>...</td>\n",
       "      <td>...</td>\n",
       "      <td>...</td>\n",
       "      <td>...</td>\n",
       "      <td>...</td>\n",
       "      <td>...</td>\n",
       "      <td>...</td>\n",
       "      <td>...</td>\n",
       "      <td>...</td>\n",
       "      <td>...</td>\n",
       "      <td>...</td>\n",
       "    </tr>\n",
       "    <tr>\n",
       "      <th>45206</th>\n",
       "      <td>51</td>\n",
       "      <td>technician</td>\n",
       "      <td>married</td>\n",
       "      <td>tertiary</td>\n",
       "      <td>no</td>\n",
       "      <td>825</td>\n",
       "      <td>no</td>\n",
       "      <td>no</td>\n",
       "      <td>cellular</td>\n",
       "      <td>17</td>\n",
       "      <td>nov</td>\n",
       "      <td>977</td>\n",
       "      <td>3</td>\n",
       "      <td>-1</td>\n",
       "      <td>0</td>\n",
       "      <td>unknown</td>\n",
       "      <td>1</td>\n",
       "    </tr>\n",
       "    <tr>\n",
       "      <th>45207</th>\n",
       "      <td>71</td>\n",
       "      <td>retired</td>\n",
       "      <td>divorced</td>\n",
       "      <td>primary</td>\n",
       "      <td>no</td>\n",
       "      <td>1729</td>\n",
       "      <td>no</td>\n",
       "      <td>no</td>\n",
       "      <td>cellular</td>\n",
       "      <td>17</td>\n",
       "      <td>nov</td>\n",
       "      <td>456</td>\n",
       "      <td>2</td>\n",
       "      <td>-1</td>\n",
       "      <td>0</td>\n",
       "      <td>unknown</td>\n",
       "      <td>1</td>\n",
       "    </tr>\n",
       "    <tr>\n",
       "      <th>45208</th>\n",
       "      <td>72</td>\n",
       "      <td>retired</td>\n",
       "      <td>married</td>\n",
       "      <td>secondary</td>\n",
       "      <td>no</td>\n",
       "      <td>5715</td>\n",
       "      <td>no</td>\n",
       "      <td>no</td>\n",
       "      <td>cellular</td>\n",
       "      <td>17</td>\n",
       "      <td>nov</td>\n",
       "      <td>1127</td>\n",
       "      <td>5</td>\n",
       "      <td>184</td>\n",
       "      <td>3</td>\n",
       "      <td>success</td>\n",
       "      <td>1</td>\n",
       "    </tr>\n",
       "    <tr>\n",
       "      <th>45209</th>\n",
       "      <td>57</td>\n",
       "      <td>blue-collar</td>\n",
       "      <td>married</td>\n",
       "      <td>secondary</td>\n",
       "      <td>no</td>\n",
       "      <td>668</td>\n",
       "      <td>no</td>\n",
       "      <td>no</td>\n",
       "      <td>telephone</td>\n",
       "      <td>17</td>\n",
       "      <td>nov</td>\n",
       "      <td>508</td>\n",
       "      <td>4</td>\n",
       "      <td>-1</td>\n",
       "      <td>0</td>\n",
       "      <td>unknown</td>\n",
       "      <td>0</td>\n",
       "    </tr>\n",
       "    <tr>\n",
       "      <th>45210</th>\n",
       "      <td>37</td>\n",
       "      <td>entrepreneur</td>\n",
       "      <td>married</td>\n",
       "      <td>secondary</td>\n",
       "      <td>no</td>\n",
       "      <td>2971</td>\n",
       "      <td>no</td>\n",
       "      <td>no</td>\n",
       "      <td>cellular</td>\n",
       "      <td>17</td>\n",
       "      <td>nov</td>\n",
       "      <td>361</td>\n",
       "      <td>2</td>\n",
       "      <td>188</td>\n",
       "      <td>11</td>\n",
       "      <td>other</td>\n",
       "      <td>0</td>\n",
       "    </tr>\n",
       "  </tbody>\n",
       "</table>\n",
       "<p>45211 rows × 17 columns</p>\n",
       "</div>"
      ],
      "text/plain": [
       "       age           job   marital  education default  balance housing loan  \\\n",
       "0       58    management   married   tertiary      no     2143     yes   no   \n",
       "1       44    technician    single  secondary      no       29     yes   no   \n",
       "2       33  entrepreneur   married  secondary      no        2     yes  yes   \n",
       "3       47   blue-collar   married    unknown      no     1506     yes   no   \n",
       "4       33       unknown    single    unknown      no        1      no   no   \n",
       "...    ...           ...       ...        ...     ...      ...     ...  ...   \n",
       "45206   51    technician   married   tertiary      no      825      no   no   \n",
       "45207   71       retired  divorced    primary      no     1729      no   no   \n",
       "45208   72       retired   married  secondary      no     5715      no   no   \n",
       "45209   57   blue-collar   married  secondary      no      668      no   no   \n",
       "45210   37  entrepreneur   married  secondary      no     2971      no   no   \n",
       "\n",
       "         contact  day month  duration  campaign  pdays  previous poutcome  y  \n",
       "0        unknown    5   may       261         1     -1         0  unknown  0  \n",
       "1        unknown    5   may       151         1     -1         0  unknown  0  \n",
       "2        unknown    5   may        76         1     -1         0  unknown  0  \n",
       "3        unknown    5   may        92         1     -1         0  unknown  0  \n",
       "4        unknown    5   may       198         1     -1         0  unknown  0  \n",
       "...          ...  ...   ...       ...       ...    ...       ...      ... ..  \n",
       "45206   cellular   17   nov       977         3     -1         0  unknown  1  \n",
       "45207   cellular   17   nov       456         2     -1         0  unknown  1  \n",
       "45208   cellular   17   nov      1127         5    184         3  success  1  \n",
       "45209  telephone   17   nov       508         4     -1         0  unknown  0  \n",
       "45210   cellular   17   nov       361         2    188        11    other  0  \n",
       "\n",
       "[45211 rows x 17 columns]"
      ]
     },
     "execution_count": 3,
     "metadata": {},
     "output_type": "execute_result"
    }
   ],
   "source": [
    "df"
   ]
  },
  {
   "cell_type": "markdown",
   "id": "4b87b0b9-ddab-4999-b1e2-46c64ca289ea",
   "metadata": {},
   "source": [
    "## Visualization of Data\n",
    "\n",
    "#### According to the dataset description:\n",
    "\n",
    "    Y: has the client subscribed a term deposit? (binary: \"yes\",\"no\")\n",
    "\n",
    "We'll be visualizing different features to the target to see which features have the strongest relationship with y. Then we'll use a couple of those features to see if it's a strong predictor of our target."
   ]
  },
  {
   "cell_type": "markdown",
   "id": "2606c67b-6214-45ed-a7b4-cf61c142db12",
   "metadata": {},
   "source": [
    "#### campaign: number of contacts performed during this campaign and for this client (numeric, includes last contact)"
   ]
  },
  {
   "cell_type": "code",
   "execution_count": 4,
   "id": "c61e6db1-6052-40b8-a515-5487033e6b26",
   "metadata": {},
   "outputs": [
    {
     "data": {
      "text/plain": [
       "<AxesSubplot:xlabel='campaign', ylabel='y'>"
      ]
     },
     "execution_count": 4,
     "metadata": {},
     "output_type": "execute_result"
    },
    {
     "data": {
      "image/png": "[encoded data removed]",
      "text/plain": [
       "<Figure size 432x288 with 1 Axes>"
      ]
     },
     "metadata": {
      "needs_background": "light"
     },
     "output_type": "display_data"
    }
   ],
   "source": [
    "df.plot.scatter(x = 'campaign', y = 'y') "
   ]
  },
  {
   "cell_type": "markdown",
   "id": "747cf310-c84c-458d-90af-f0e4318e987b",
   "metadata": {},
   "source": [
    "#### pdays: number of days that passed by after the client was last contacted from a previous campaign"
   ]
  },
  {
   "cell_type": "code",
   "execution_count": 5,
   "id": "3b134d62-4ff4-4c8e-b3d7-7b496cd5ecc0",
   "metadata": {},
   "outputs": [
    {
     "data": {
      "text/plain": [
       "<AxesSubplot:xlabel='pdays', ylabel='y'>"
      ]
     },
     "execution_count": 5,
     "metadata": {},
     "output_type": "execute_result"
    },
    {
     "data": {
      "image/png": "[encoded data removed]",
      "text/plain": [
       "<Figure size 432x288 with 1 Axes>"
      ]
     },
     "metadata": {
      "needs_background": "light"
     },
     "output_type": "display_data"
    }
   ],
   "source": [
    "df.plot.scatter(x = 'pdays', y = 'y')"
   ]
  },
  {
   "cell_type": "markdown",
   "id": "57eedca5-1f5f-40df-8903-c7521e9e0f3b",
   "metadata": {
    "tags": []
   },
   "source": [
    "#### previous: number of contacts performed before this campaign and for this client"
   ]
  },
  {
   "cell_type": "code",
   "execution_count": 6,
   "id": "35b1c2d0-9794-4cd0-b726-51beb7c3a57d",
   "metadata": {},
   "outputs": [
    {
     "data": {
      "text/plain": [
       "<AxesSubplot:xlabel='previous', ylabel='y'>"
      ]
     },
     "execution_count": 6,
     "metadata": {},
     "output_type": "execute_result"
    },
    {
     "data": {
      "image/png": "[encoded data removed]",
      "text/plain": [
       "<Figure size 432x288 with 1 Axes>"
      ]
     },
     "metadata": {
      "needs_background": "light"
     },
     "output_type": "display_data"
    }
   ],
   "source": [
    "df.plot.scatter(x = 'previous', y = 'y')"
   ]
  },
  {
   "cell_type": "markdown",
   "id": "be4e33df-562c-4837-b50f-696e31dda254",
   "metadata": {
    "tags": []
   },
   "source": [
    "#### duration: last contact duration, in seconds"
   ]
  },
  {
   "cell_type": "code",
   "execution_count": 7,
   "id": "66e4e322-64e9-462d-93e5-4895a47b572d",
   "metadata": {},
   "outputs": [
    {
     "data": {
      "text/plain": [
       "<AxesSubplot:xlabel='duration', ylabel='y'>"
      ]
     },
     "execution_count": 7,
     "metadata": {},
     "output_type": "execute_result"
    },
    {
     "data": {
      "image/png": "[encoded data removed]",
      "text/plain": [
       "<Figure size 432x288 with 1 Axes>"
      ]
     },
     "metadata": {
      "needs_background": "light"
     },
     "output_type": "display_data"
    }
   ],
   "source": [
    "df.plot.scatter(x = 'duration', y = 'y')"
   ]
  },
  {
   "cell_type": "markdown",
   "id": "71b27b49-e87c-4869-b6dd-2674ace2af85",
   "metadata": {},
   "source": [
    "Based on the visualizations, features 'previous','campaign', and 'duration' seem to show a stronger relationship with y. We'll be using those features as our 'x' variable going forward."
   ]
  },
  {
   "cell_type": "markdown",
   "id": "1aae58a6-7389-41e0-a545-72fd13e6dbaa",
   "metadata": {},
   "source": [
    "### Using KNN as first ML Method for classification\n",
    "I am adding three features to 'x', and the target variable as 'y' for the classification model"
   ]
  },
  {
   "cell_type": "code",
   "execution_count": 8,
   "id": "c6368eea-b936-4c41-8995-1cd0469c02cd",
   "metadata": {},
   "outputs": [],
   "source": [
    "import numpy as np\n",
    "import matplotlib.pyplot as plt\n",
    "import sklearn.linear_model\n",
    "import sklearn.model_selection\n",
    "from sklearn.metrics import accuracy_score\n",
    "import sklearn.neighbors\n",
    "\n",
    "\n",
    "#change data into a 2-D array format\n",
    "x = df[['campaign','duration','previous']]\n",
    "y = df['y']"
   ]
  },
  {
   "cell_type": "code",
   "execution_count": 9,
   "id": "05808326-db34-4595-b563-20f875466c45",
   "metadata": {},
   "outputs": [
    {
     "data": {
      "text/plain": [
       "(45211, 3)"
      ]
     },
     "execution_count": 9,
     "metadata": {},
     "output_type": "execute_result"
    }
   ],
   "source": [
    "x.shape"
   ]
  },
  {
   "cell_type": "code",
   "execution_count": 10,
   "id": "4fb77ac2-6c1b-4ba8-8862-965cd7096008",
   "metadata": {},
   "outputs": [
    {
     "data": {
      "text/html": [
       "<div>\n",
       "<style scoped>\n",
       "    .dataframe tbody tr th:only-of-type {\n",
       "        vertical-align: middle;\n",
       "    }\n",
       "\n",
       "    .dataframe tbody tr th {\n",
       "        vertical-align: top;\n",
       "    }\n",
       "\n",
       "    .dataframe thead th {\n",
       "        text-align: right;\n",
       "    }\n",
       "</style>\n",
       "<table border=\"1\" class=\"dataframe\">\n",
       "  <thead>\n",
       "    <tr style=\"text-align: right;\">\n",
       "      <th></th>\n",
       "      <th>campaign</th>\n",
       "      <th>duration</th>\n",
       "      <th>previous</th>\n",
       "    </tr>\n",
       "  </thead>\n",
       "  <tbody>\n",
       "    <tr>\n",
       "      <th>0</th>\n",
       "      <td>1</td>\n",
       "      <td>261</td>\n",
       "      <td>0</td>\n",
       "    </tr>\n",
       "    <tr>\n",
       "      <th>1</th>\n",
       "      <td>1</td>\n",
       "      <td>151</td>\n",
       "      <td>0</td>\n",
       "    </tr>\n",
       "    <tr>\n",
       "      <th>2</th>\n",
       "      <td>1</td>\n",
       "      <td>76</td>\n",
       "      <td>0</td>\n",
       "    </tr>\n",
       "    <tr>\n",
       "      <th>3</th>\n",
       "      <td>1</td>\n",
       "      <td>92</td>\n",
       "      <td>0</td>\n",
       "    </tr>\n",
       "    <tr>\n",
       "      <th>4</th>\n",
       "      <td>1</td>\n",
       "      <td>198</td>\n",
       "      <td>0</td>\n",
       "    </tr>\n",
       "    <tr>\n",
       "      <th>...</th>\n",
       "      <td>...</td>\n",
       "      <td>...</td>\n",
       "      <td>...</td>\n",
       "    </tr>\n",
       "    <tr>\n",
       "      <th>45206</th>\n",
       "      <td>3</td>\n",
       "      <td>977</td>\n",
       "      <td>0</td>\n",
       "    </tr>\n",
       "    <tr>\n",
       "      <th>45207</th>\n",
       "      <td>2</td>\n",
       "      <td>456</td>\n",
       "      <td>0</td>\n",
       "    </tr>\n",
       "    <tr>\n",
       "      <th>45208</th>\n",
       "      <td>5</td>\n",
       "      <td>1127</td>\n",
       "      <td>3</td>\n",
       "    </tr>\n",
       "    <tr>\n",
       "      <th>45209</th>\n",
       "      <td>4</td>\n",
       "      <td>508</td>\n",
       "      <td>0</td>\n",
       "    </tr>\n",
       "    <tr>\n",
       "      <th>45210</th>\n",
       "      <td>2</td>\n",
       "      <td>361</td>\n",
       "      <td>11</td>\n",
       "    </tr>\n",
       "  </tbody>\n",
       "</table>\n",
       "<p>45211 rows × 3 columns</p>\n",
       "</div>"
      ],
      "text/plain": [
       "       campaign  duration  previous\n",
       "0             1       261         0\n",
       "1             1       151         0\n",
       "2             1        76         0\n",
       "3             1        92         0\n",
       "4             1       198         0\n",
       "...         ...       ...       ...\n",
       "45206         3       977         0\n",
       "45207         2       456         0\n",
       "45208         5      1127         3\n",
       "45209         4       508         0\n",
       "45210         2       361        11\n",
       "\n",
       "[45211 rows x 3 columns]"
      ]
     },
     "execution_count": 10,
     "metadata": {},
     "output_type": "execute_result"
    }
   ],
   "source": [
    "x"
   ]
  },
  {
   "cell_type": "markdown",
   "id": "96c48b0f-88a8-4cea-923f-7dedeb8a9519",
   "metadata": {},
   "source": [
    "#### Cross-validating to select hyperparameters for n_neighbors for k-nearest neighbor's accuracy"
   ]
  },
  {
   "cell_type": "code",
   "execution_count": 11,
   "id": "79ee21f2-5b1e-4e09-825d-31422fc0a087",
   "metadata": {
    "tags": []
   },
   "outputs": [
    {
     "data": {
      "text/plain": [
       "array([0.87268455, 0.87157866, 0.86978159, 0.87308171, 0.86810452])"
      ]
     },
     "execution_count": 11,
     "metadata": {},
     "output_type": "execute_result"
    }
   ],
   "source": [
    "from sklearn.model_selection import cross_val_score\n",
    "\n",
    "model = sklearn.neighbors.KNeighborsClassifier(n_neighbors=3)\n",
    "\n",
    "x_train, x_test, y_train, y_test = sklearn.model_selection.train_test_split(\n",
    "    x, y, test_size=0.2, random_state=42)\n",
    "\n",
    "loss = cross_val_score(model,\n",
    "                       x_train,\n",
    "                       y_train, \n",
    "                       cv=5, \n",
    "                       scoring='accuracy')\n",
    "loss"
   ]
  },
  {
   "cell_type": "code",
   "execution_count": 12,
   "id": "90603a28-c6b8-44be-9309-0f4e72a4632e",
   "metadata": {
    "tags": []
   },
   "outputs": [
    {
     "data": {
      "image/png": "[encoded data removed]",
      "text/plain": [
       "<Figure size 432x288 with 1 Axes>"
      ]
     },
     "metadata": {
      "needs_background": "light"
     },
     "output_type": "display_data"
    }
   ],
   "source": [
    "k_range = range(1, 20)\n",
    "k_scores = []\n",
    "for k in k_range:\n",
    "    knn = sklearn.neighbors.KNeighborsClassifier(n_neighbors=k)\n",
    "    loss = cross_val_score(knn,\n",
    "                           x_train,\n",
    "                           y_train, \n",
    "                           cv=5, \n",
    "                           scoring='accuracy')\n",
    "    k_scores.append(np.mean(loss))\n",
    "\n",
    "plt.scatter(k_range, k_scores)\n",
    "plt.xlabel('Value of K for KNN')\n",
    "plt.ylabel('Cross-Validated Accuracy')\n",
    "plt.show()"
   ]
  },
  {
   "cell_type": "markdown",
   "id": "f34224dc-c6a0-4bb4-a3a6-431300f80802",
   "metadata": {},
   "source": [
    "We want to select the K that gives us the highest cross-validated accuracy score"
   ]
  },
  {
   "cell_type": "code",
   "execution_count": 13,
   "id": "d4ee4865-2e44-4e2c-9c83-3fe5eec65821",
   "metadata": {},
   "outputs": [],
   "source": [
    "def knntest(n=1):\n",
    "    model = sklearn.neighbors.KNeighborsClassifier(n_neighbors=n)\n",
    "\n",
    "    x_train, x_test, y_train, y_test = sklearn.model_selection.train_test_split(\n",
    "        x, y, test_size=0.2, random_state=42)\n",
    "\n",
    "    model.fit(x_train,\n",
    "              y_train)\n",
    "\n",
    "    y_pred1 = model.predict(x_test)\n",
    "\n",
    "    print('Accuracy_Knn = ', accuracy_score(y_test, y_pred1))"
   ]
  },
  {
   "cell_type": "code",
   "execution_count": 14,
   "id": "041e2354-263c-4fc4-b5df-be6e39b05e82",
   "metadata": {},
   "outputs": [
    {
     "name": "stdout",
     "output_type": "stream",
     "text": [
      "Accuracy_Knn =  0.8803494415570055\n"
     ]
    }
   ],
   "source": [
    "knntest(n=19)"
   ]
  },
  {
   "cell_type": "code",
   "execution_count": 15,
   "id": "32182ed8-0e76-4502-ae74-2970814d67ec",
   "metadata": {
    "tags": []
   },
   "outputs": [
    {
     "name": "stdout",
     "output_type": "stream",
     "text": [
      "Accuracy_Knn =  0.8804600243282097\n"
     ]
    }
   ],
   "source": [
    "knntest(n=14)"
   ]
  },
  {
   "cell_type": "code",
   "execution_count": 16,
   "id": "667d87e1-f717-4aca-b342-a15ef7a12da7",
   "metadata": {},
   "outputs": [
    {
     "name": "stdout",
     "output_type": "stream",
     "text": [
      "Accuracy_Knn =  0.8814552692690479\n"
     ]
    }
   ],
   "source": [
    "knntest(n=15)"
   ]
  },
  {
   "cell_type": "markdown",
   "id": "30cb9aa3-72d2-4e3c-b0a3-543139f50492",
   "metadata": {},
   "source": [
    "n_neighbors = 15 is optimal to give us the highest accuracy score"
   ]
  },
  {
   "cell_type": "markdown",
   "id": "976efd3d-e697-4bf8-9cc4-6fc45b7ce6b6",
   "metadata": {},
   "source": [
    "#### Examining the accuracy of our model through confusion matrix and classification report"
   ]
  },
  {
   "cell_type": "code",
   "execution_count": 17,
   "id": "1357da44-984f-44ef-9d4e-ece44c480b1c",
   "metadata": {
    "tags": []
   },
   "outputs": [
    {
     "data": {
      "text/plain": [
       "array([[38876,  1046],\n",
       "       [ 3045,  2244]])"
      ]
     },
     "execution_count": 17,
     "metadata": {},
     "output_type": "execute_result"
    }
   ],
   "source": [
    "from sklearn.metrics import confusion_matrix\n",
    "\n",
    "model.fit(x,y)\n",
    "\n",
    "confusion_matrix(y, model.predict(x))"
   ]
  },
  {
   "cell_type": "code",
   "execution_count": 18,
   "id": "89554722-4e83-4c87-abef-30cb2d648c0c",
   "metadata": {},
   "outputs": [
    {
     "data": {
      "image/png": "[encoded data removed]",
      "text/plain": [
       "<Figure size 360x360 with 1 Axes>"
      ]
     },
     "metadata": {
      "needs_background": "light"
     },
     "output_type": "display_data"
    }
   ],
   "source": [
    "confmat = confusion_matrix(y, model.predict(x))\n",
    "\n",
    "fig, ax = plt.subplots(figsize=(5, 5))\n",
    "ax.imshow(confmat)\n",
    "\n",
    "ax.xaxis.set(ticks=(0, 1), ticklabels=('Predicted 0s', 'Predicted 1s'))\n",
    "ax.yaxis.set(ticks=(0, 1), ticklabels=('Actual 0s', 'Actual 1s'))\n",
    "for i in range(2):\n",
    "    for j in range(2):\n",
    "        ax.text(j, i, confmat[i,j], ha='center', va='center', color = 'red')\n",
    "\n",
    "plt.show()"
   ]
  },
  {
   "cell_type": "code",
   "execution_count": 19,
   "id": "00aceda2-48d4-4b0b-ab12-f5068077470e",
   "metadata": {},
   "outputs": [
    {
     "name": "stdout",
     "output_type": "stream",
     "text": [
      "              precision    recall  f1-score   support\n",
      "\n",
      "           0       0.93      0.97      0.95     39922\n",
      "           1       0.68      0.42      0.52      5289\n",
      "\n",
      "    accuracy                           0.91     45211\n",
      "   macro avg       0.80      0.70      0.74     45211\n",
      "weighted avg       0.90      0.91      0.90     45211\n",
      "\n"
     ]
    }
   ],
   "source": [
    "from sklearn.metrics import classification_report\n",
    "\n",
    "print(classification_report(y, model.predict(x)))"
   ]
  },
  {
   "cell_type": "markdown",
   "id": "4ad8f797-cd41-49f3-9be5-f4eb529afdc4",
   "metadata": {},
   "source": [
    "Accuracy (number of accurate predictions divided by the total number of predictions) score is high. Recall score (amount of positive cases being predicted correctly) for instances of 0 (clients didn't subscribe a deposit) is far greater than instances of 1 (clients did subscribe a deposit). Precision score (accurately predicted positive cases) of instances 0 is greater than instances of 1.\n",
    "\n",
    "This model is poor at accurately classifying if clients will subsribe to a deposit based on the three features of a bank marketing campaign because the skew of the accuracy of instances of 0 makes it an imbalanced model.\n"
   ]
  },
  {
   "cell_type": "markdown",
   "id": "ec7c81ec-563c-4f88-a59e-fab296bc654e",
   "metadata": {},
   "source": [
    "### Utilize Logistic Regression as another ML method for classification"
   ]
  },
  {
   "cell_type": "markdown",
   "id": "b916ad70-e0aa-4120-a1b9-1fb30b901e01",
   "metadata": {},
   "source": [
    "Splitting our data into training data and test data"
   ]
  },
  {
   "cell_type": "code",
   "execution_count": 20,
   "id": "1164b725-7156-4baa-ab72-3efa1e7a1682",
   "metadata": {},
   "outputs": [],
   "source": [
    "x_train, x_test, y_train, y_test = sklearn.model_selection.train_test_split(\n",
    "    x, y, test_size=0.2, random_state=42)"
   ]
  },
  {
   "cell_type": "code",
   "execution_count": 21,
   "id": "2074cfcb-621e-4eac-b63f-e6abccb7caf7",
   "metadata": {},
   "outputs": [],
   "source": [
    "model1 = sklearn.linear_model.LogisticRegression()"
   ]
  },
  {
   "cell_type": "code",
   "execution_count": 22,
   "id": "adae2396-b3cd-4434-9db3-7e361b90055a",
   "metadata": {},
   "outputs": [
    {
     "data": {
      "text/plain": [
       "LogisticRegression()"
      ]
     },
     "execution_count": 22,
     "metadata": {},
     "output_type": "execute_result"
    }
   ],
   "source": [
    "model1.fit(x_train,y_train)"
   ]
  },
  {
   "cell_type": "code",
   "execution_count": 23,
   "id": "b4c966ad-bf42-460c-8773-bd67bc8a7b94",
   "metadata": {},
   "outputs": [
    {
     "data": {
      "text/plain": [
       "array([0, 0, 0, ..., 0, 0, 0])"
      ]
     },
     "execution_count": 23,
     "metadata": {},
     "output_type": "execute_result"
    }
   ],
   "source": [
    "model1.predict(x_test)"
   ]
  },
  {
   "cell_type": "markdown",
   "id": "2a6c740a-3d64-4762-906e-b1eac74c0bee",
   "metadata": {},
   "source": [
    "#### Examining the accuracy of our model through confusion matrix and classification report"
   ]
  },
  {
   "cell_type": "code",
   "execution_count": 24,
   "id": "52dbc958-510e-400b-9fd8-f80d57cba0e5",
   "metadata": {},
   "outputs": [
    {
     "data": {
      "text/plain": [
       "array([[39292,   630],\n",
       "       [ 4418,   871]])"
      ]
     },
     "execution_count": 24,
     "metadata": {},
     "output_type": "execute_result"
    }
   ],
   "source": [
    "model1.fit(x,y)\n",
    "\n",
    "confusion_matrix(y, model1.predict(x))"
   ]
  },
  {
   "cell_type": "markdown",
   "id": "70b7fe3c-beab-47af-ac76-99ca4ac7a072",
   "metadata": {},
   "source": [
    ">Let's visualize our confusion matrix"
   ]
  },
  {
   "cell_type": "code",
   "execution_count": 25,
   "id": "35bf0d12-6d79-4805-8fe9-d99f20163f4e",
   "metadata": {},
   "outputs": [
    {
     "data": {
      "image/png": "[encoded data removed]",
      "text/plain": [
       "<Figure size 360x360 with 1 Axes>"
      ]
     },
     "metadata": {
      "needs_background": "light"
     },
     "output_type": "display_data"
    }
   ],
   "source": [
    "confmat = confusion_matrix(y, model1.predict(x))\n",
    "\n",
    "fig, ax = plt.subplots(figsize=(5, 5))\n",
    "ax.imshow(confmat)\n",
    "\n",
    "ax.xaxis.set(ticks=(0, 1), ticklabels=('Predicted 0s', 'Predicted 1s'))\n",
    "ax.yaxis.set(ticks=(0, 1), ticklabels=('Actual 0s', 'Actual 1s'))\n",
    "for i in range(2):\n",
    "    for j in range(2):\n",
    "        ax.text(j, i, confmat[i,j], ha='center', va='center', color = 'red')\n",
    "\n",
    "plt.show()"
   ]
  },
  {
   "cell_type": "code",
   "execution_count": 26,
   "id": "b290ae39-47f9-4ee9-9632-9a86b5f6b407",
   "metadata": {},
   "outputs": [
    {
     "name": "stdout",
     "output_type": "stream",
     "text": [
      "              precision    recall  f1-score   support\n",
      "\n",
      "           0       0.90      0.98      0.94     39922\n",
      "           1       0.58      0.16      0.26      5289\n",
      "\n",
      "    accuracy                           0.89     45211\n",
      "   macro avg       0.74      0.57      0.60     45211\n",
      "weighted avg       0.86      0.89      0.86     45211\n",
      "\n"
     ]
    }
   ],
   "source": [
    "print(classification_report(y, model1.predict(x)))"
   ]
  },
  {
   "cell_type": "markdown",
   "id": "d2da8779-9a7c-4e8e-a9a8-fa9b3a66d2e8",
   "metadata": {},
   "source": [
    "Accuracy (number of accurate predictions divided by the total number of predictions) score is high. Recall score (amount of positive cases being predicted correctly) for instances of 0 (clients didn't subscribe a deposit) is far greater than instances of 1 (clients did subscribe a deposit). Precision score (accurately predicted positive cases) of instances 0 is greater than instances of 1.\n",
    "\n",
    "Like the KNN model, this model is poor at accurately classifying if clients will subsribe to a deposit based on the three features of a bank marketing campaign because the skew of the accuracy of instances of 0 makes it an imbalanced model.\n"
   ]
  },
  {
   "cell_type": "markdown",
   "id": "812ee1eb-1810-47ea-841f-7f8aa3ec10d9",
   "metadata": {},
   "source": [
    "#### Plotting Receiver Operating Characteristic (ROC) Curve for better metric"
   ]
  },
  {
   "cell_type": "code",
   "execution_count": 28,
   "id": "081deb9c-2117-4aae-9742-674dd739356c",
   "metadata": {},
   "outputs": [],
   "source": [
    "lr_classifier = sklearn.linear_model.LogisticRegression()\n",
    "x_train_scaled = sklearn.preprocessing.StandardScaler().fit_transform(x_train)\n",
    "x_test_scaled = sklearn.preprocessing.StandardScaler().fit_transform(x_test)\n",
    "lr_classifier.fit(x_train_scaled, y_train)\n",
    "lr_y_pred = lr_classifier.predict(x_test_scaled)"
   ]
  },
  {
   "cell_type": "code",
   "execution_count": 29,
   "id": "8bc41251-7085-4ae5-9ea5-93ec8ab1a7f5",
   "metadata": {},
   "outputs": [
    {
     "data": {
      "text/plain": [
       "[<matplotlib.lines.Line2D at 0x7f9e01b2e5e0>]"
      ]
     },
     "execution_count": 29,
     "metadata": {},
     "output_type": "execute_result"
    },
    {
     "data": {
      "image/png": "[encoded data removed]",
      "text/plain": [
       "<Figure size 432x288 with 1 Axes>"
      ]
     },
     "metadata": {
      "needs_background": "light"
     },
     "output_type": "display_data"
    }
   ],
   "source": [
    "lr_y_scores = sklearn.model_selection.cross_val_predict(lr_classifier, x_train_scaled, y_train, cv=3,\n",
    "                             method=\"predict_proba\")\n",
    "lr_falsePositiveRate, lr_truePositiveRate, lr_thresholds = sklearn.metrics.roc_curve(y_train, lr_y_scores[:,1])\n",
    "\n",
    "plt.plot(lr_falsePositiveRate, lr_truePositiveRate,linewidth=2, color='blue')\n",
    "\n",
    "plt.plot([0, 1], [0, 1], 'k:')\n"
   ]
  },
  {
   "cell_type": "code",
   "execution_count": 30,
   "id": "b1299903-4484-403c-9cb5-46c88c82019e",
   "metadata": {},
   "outputs": [
    {
     "name": "stdout",
     "output_type": "stream",
     "text": [
      "AUC = 0.8300035854242223\n"
     ]
    }
   ],
   "source": [
    "from sklearn import metrics\n",
    "\n",
    "auc = metrics.auc(lr_falsePositiveRate,lr_truePositiveRate)\n",
    "\n",
    "print('AUC =',auc)"
   ]
  },
  {
   "cell_type": "markdown",
   "id": "af86f6a7-cd8d-45dc-bd3d-accd1dce50e5",
   "metadata": {},
   "source": [
    "The more the ROC curve hugs the top left corner, the better the model does at classifying accurately. An area under the curve (AUC) closer to 1 is a better model while an AUC of 0.5 is not.\n",
    "\n",
    "This model has a curve that is closer to the top left corner and an AUC that is closer to 1. \n",
    "\n",
    "This regression model does a good job at classifying the data. "
   ]
  },
  {
   "cell_type": "markdown",
   "id": "8eef2a2f-7793-4617-9f30-620bef67aef8",
   "metadata": {},
   "source": [
    "### Comparison of KNN and Logistic Regression Model"
   ]
  },
  {
   "cell_type": "markdown",
   "id": "e41d4291-e51d-43a8-9e42-a43d1b46e8ab",
   "metadata": {},
   "source": [
    "##### KNN"
   ]
  },
  {
   "cell_type": "code",
   "execution_count": 31,
   "id": "0ef462eb-4efc-4326-951a-0c2ddae0923e",
   "metadata": {},
   "outputs": [
    {
     "name": "stdout",
     "output_type": "stream",
     "text": [
      "              precision    recall  f1-score   support\n",
      "\n",
      "           0       0.93      0.97      0.95     39922\n",
      "           1       0.68      0.42      0.52      5289\n",
      "\n",
      "    accuracy                           0.91     45211\n",
      "   macro avg       0.80      0.70      0.74     45211\n",
      "weighted avg       0.90      0.91      0.90     45211\n",
      "\n"
     ]
    }
   ],
   "source": [
    "print(classification_report(y, model.predict(x)))"
   ]
  },
  {
   "cell_type": "markdown",
   "id": "9e4231ba-a5de-42a0-ac35-3eec1b532773",
   "metadata": {},
   "source": [
    "##### Logistic Regression"
   ]
  },
  {
   "cell_type": "code",
   "execution_count": 32,
   "id": "b9920482-661c-4e8a-8ae4-c007132a57df",
   "metadata": {},
   "outputs": [
    {
     "name": "stdout",
     "output_type": "stream",
     "text": [
      "              precision    recall  f1-score   support\n",
      "\n",
      "           0       0.90      0.98      0.94     39922\n",
      "           1       0.58      0.16      0.26      5289\n",
      "\n",
      "    accuracy                           0.89     45211\n",
      "   macro avg       0.74      0.57      0.60     45211\n",
      "weighted avg       0.86      0.89      0.86     45211\n",
      "\n"
     ]
    }
   ],
   "source": [
    "print(classification_report(y, model1.predict(x)))"
   ]
  },
  {
   "cell_type": "markdown",
   "id": "d784e089-06f1-4759-93ab-0fe26d315f7b",
   "metadata": {},
   "source": [
    "KNN has greater overall precision and recall for both instances of 0 and 1. Based on these metrics, KNN is a better model. However, due to the imbalanced models, ROC and/or AUC should be used to determine accuracy of model, as seen in the example I did for Logistic Regression."
   ]
  },
  {
   "cell_type": "markdown",
   "id": "9b41c0e1-75d3-4af2-8c6f-86c9d4d499c4",
   "metadata": {},
   "source": [
    "### Findings Compared to Prior Work"
   ]
  },
  {
   "cell_type": "markdown",
   "id": "f4b7b13d-9643-4ff2-b9d6-fd77755be06b",
   "metadata": {},
   "source": [
    "My model used 3 relevant features compared to the 22 features used in article #1. Article #1's AUC was a value of 0.8, article #2's AUC was a value of  0.938, and article #3's AUC was a value of 0.959. My logistic Regression model's AUC was 0.82, which is higher than that of article #1 but lower than article #2 and #3's.\n",
    "\n",
    "For article #1, the top five most relevant inputs for a marketing campaign were identified as call duration, the month of contact, the number of previous contacts, days since the last contact, the last contact result, and the first constant duration ('duration','month','previous','days','poutcome'). For article #2, the most relevant input was the Euribor rate. For both my KNN and Logistic Regression model, the three relevant features I used were call duration, the number of previous contacts, and number of contacts performed during this campaign and for this client ('duration','previous','campagin')."
   ]
  },
  {
   "cell_type": "markdown",
   "id": "3012bca9-8c32-40a2-bfa1-d8afeae05d3d",
   "metadata": {},
   "source": [
    "### Contextualizing Techniques and Findings"
   ]
  },
  {
   "cell_type": "markdown",
   "id": "455d7d35-4639-483c-a8f5-2700e2882197",
   "metadata": {},
   "source": [
    "I used K-nearest neighbors and logistic regression models to train the model and focused on the accuracy score to determine the accuracy of the model. I used classification to understand if people who were categorized under different features were more likely to submit a deposit or not. I wanted to understand the shared qualities or attributes of clients who submitted a deposit. This is just another step into understanding consumer demographics for marketing purposes.\n",
    "\n",
    "Those of interest to the findings of this project would be other banking institutions that are interested in improving their marketing strategies to confirm a long-term deposit to their bank. The 2008-2012 Portuguese data's historical context is of that in the aftermath of a financial crisis and where banking institutions' demand to retrieve the lost profit during that time launched several telemarketing campagins. \n",
    "\n",
    "In all types or marketing, allocation of resources to the campaign is discussed in relation to the success of campaigns. Therefore, in order to have an efficient marketing campaign, resources should be allocated efficiently and business goals must be met. \n",
    "\n",
    "With the recent Covid-19 pandemic making remote working a popular option amongst the workforce, as well as the digitization of banking, bank marketing campaigns have had to evolve. This is another instance of a financial dip in an economy that may prove useful to use the marketing strategies from the Portuguese dataset. "
   ]
  },
  {
   "cell_type": "code",
   "execution_count": null,
   "id": "8b4b43ce-f344-4e70-848a-8e78e91bbb9c",
   "metadata": {},
   "outputs": [],
   "source": []
  },
  {
   "cell_type": "code",
   "execution_count": null,
   "id": "72cd913e-14e5-438e-95ff-f378ba74a207",
   "metadata": {},
   "outputs": [],
   "source": []
  }
 ],
 "metadata": {
  "kernelspec": {
   "display_name": "Python 3 (ipykernel)",
   "language": "python",
   "name": "python3"
  },
  "language_info": {
   "codemirror_mode": {
    "name": "ipython",
    "version": 3
   },
   "file_extension": ".py",
   "mimetype": "text/x-python",
   "name": "python",
   "nbconvert_exporter": "python",
   "pygments_lexer": "ipython3",
   "version": "3.9.6"
  }
 },
 "nbformat": 4,
 "nbformat_minor": 5
}
